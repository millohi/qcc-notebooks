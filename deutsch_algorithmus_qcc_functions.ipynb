{
 "cells": [
  {
   "cell_type": "markdown",
   "source": [
    "# Imports"
   ],
   "metadata": {
    "collapsed": false
   },
   "id": "e6f1272ea19cb76d"
  },
  {
   "cell_type": "code",
   "execution_count": 1,
   "outputs": [],
   "source": [
    "from src.lib import state\n",
    "from src.lib import ops"
   ],
   "metadata": {
    "collapsed": false,
    "ExecuteTime": {
     "end_time": "2023-11-21T08:19:13.336876300Z",
     "start_time": "2023-11-21T08:19:13.132498100Z"
    }
   },
   "id": "initial_id"
  },
  {
   "cell_type": "markdown",
   "source": [
    "### function to create U"
   ],
   "metadata": {
    "collapsed": false
   },
   "id": "ec6187cd674765"
  },
  {
   "cell_type": "code",
   "execution_count": 2,
   "outputs": [],
   "source": [
    "def f_creator(user_input: str): \n",
    "    user_input_lower = user_input.lower()\n",
    "    \n",
    "    def check_input(in_bit): \n",
    "        assert type(in_bit) == list, 'function need to be called with list representing bits, e.g. [1] for 1'\n",
    "        assert len(in_bit) == 1, f'function operates on one bit, but received {len(in_bit)}'\n",
    "        assert in_bit[0] == 0 or in_bit[0] == 1, f'just 0 or 1, but received {in_bit[0]}'\n",
    "    \n",
    "    if user_input_lower == 'set0': \n",
    "        def f(input_bit: list) -> int: \n",
    "            check_input(input_bit)\n",
    "            return 0\n",
    "    elif user_input_lower == 'id': \n",
    "        def f(input_bit: list) -> int: \n",
    "            check_input(input_bit)\n",
    "            return input_bit[0]\n",
    "    elif user_input_lower == 'not': \n",
    "        def f(input_bit: list) -> int: \n",
    "            check_input(input_bit)\n",
    "            return 1 - input_bit[0]           # 1 - 0 = 1 and 1 - 1 = 0\n",
    "    elif user_input_lower == 'set1': \n",
    "        def f(input_bit: list) -> int: \n",
    "            check_input(input_bit)\n",
    "            return 1\n",
    "    else: \n",
    "        raise AssertionError('Wrong input')\n",
    "    return f"
   ],
   "metadata": {
    "collapsed": false,
    "ExecuteTime": {
     "end_time": "2023-11-21T08:21:01.843899Z",
     "start_time": "2023-11-21T08:21:01.821610700Z"
    }
   },
   "id": "6e929d1a3a90d697"
  },
  {
   "cell_type": "code",
   "execution_count": 3,
   "outputs": [],
   "source": [
    "def make_f_unitary(f): \n",
    "    return ops.OracleUf(2, f)"
   ],
   "metadata": {
    "collapsed": false,
    "ExecuteTime": {
     "end_time": "2023-11-21T08:21:29.605239500Z",
     "start_time": "2023-11-21T08:21:29.594619500Z"
    }
   },
   "id": "6f6b0afe6ad08bdb"
  },
  {
   "cell_type": "code",
   "execution_count": 4,
   "outputs": [],
   "source": [
    "def run_deutsch(unitary_function: ops.Operator, display_operation: bool = True): \n",
    "    # init | 0 1 > \n",
    "    xy = state.bitstring(0, 1)\n",
    "    if display_operation: \n",
    "        print('After init: ', xy)\n",
    "        \n",
    "    # first hadamard \n",
    "    op = ops.Hadamard(1) * ops.Hadamard(1) \n",
    "    xy = op(xy)\n",
    "    if display_operation: \n",
    "        print('After Hadamard 1: ', xy)\n",
    "    \n",
    "    # unitary function\n",
    "    xy = unitary_function(xy)\n",
    "    if display_operation: \n",
    "        print('After unitary_function: ', xy)\n",
    "    \n",
    "    # hadamard \n",
    "    op = ops.Hadamard(1) * ops.Identity(1)\n",
    "    xy = op(xy)\n",
    "    if display_operation: \n",
    "        print('After Hadamard 2: ', xy)\n",
    "    \n",
    "    try:        # if measuring P = 0 -> AssertionError\n",
    "        ops.Measure(xy, idx=0, tostate=0) \n",
    "        return 0\n",
    "    except AssertionError: \n",
    "        ops.Measure(xy, idx=0, tostate=1)\n",
    "        return 1"
   ],
   "metadata": {
    "collapsed": false,
    "ExecuteTime": {
     "end_time": "2023-11-21T08:21:32.852769700Z",
     "start_time": "2023-11-21T08:21:32.843158200Z"
    }
   },
   "id": "41bb213c7494cfd1"
  },
  {
   "cell_type": "code",
   "execution_count": 5,
   "outputs": [
    {
     "name": "stdout",
     "output_type": "stream",
     "text": [
      "After init:  2-qubit state. Tensor:\n",
      "[0.+0.j 1.+0.j 0.+0.j 0.+0.j]\n",
      "After Hadamard 1:  2-qubit state. Tensor:\n",
      "[ 0.49999997+0.j -0.49999997+0.j  0.49999997+0.j -0.49999997+0.j]\n",
      "After unitary_function:  2-qubit state. Tensor:\n",
      "[ 0.49999997+0.j -0.49999997+0.j -0.49999997+0.j  0.49999997+0.j]\n",
      "After Hadamard 2:  2-qubit state. Tensor:\n",
      "[ 0.       +0.j  0.       +0.j  0.7071067+0.j -0.7071067+0.j]\n",
      "id is balanced\n"
     ]
    }
   ],
   "source": [
    "user_in = input('Type function (set0, id, not, set1):')\n",
    "pure_function = f_creator(user_in)\n",
    "u_f = make_f_unitary(pure_function)\n",
    "state_first_bit = run_deutsch(u_f)\n",
    "if state_first_bit == 0: \n",
    "    print(user_in, 'is constant')\n",
    "else: \n",
    "    print(user_in, 'is balanced')"
   ],
   "metadata": {
    "collapsed": false,
    "ExecuteTime": {
     "end_time": "2023-11-21T08:21:37.530165200Z",
     "start_time": "2023-11-21T08:21:35.008876200Z"
    }
   },
   "id": "b31c3b41acb9f8b6"
  },
  {
   "cell_type": "code",
   "execution_count": 40,
   "outputs": [],
   "source": [],
   "metadata": {
    "collapsed": false,
    "ExecuteTime": {
     "end_time": "2023-11-20T20:46:38.895918600Z",
     "start_time": "2023-11-20T20:46:38.867133100Z"
    }
   },
   "id": "7e5ad3e8a86aa8ac"
  }
 ],
 "metadata": {
  "kernelspec": {
   "display_name": "Python 3",
   "language": "python",
   "name": "python3"
  },
  "language_info": {
   "codemirror_mode": {
    "name": "ipython",
    "version": 2
   },
   "file_extension": ".py",
   "mimetype": "text/x-python",
   "name": "python",
   "nbconvert_exporter": "python",
   "pygments_lexer": "ipython2",
   "version": "2.7.6"
  }
 },
 "nbformat": 4,
 "nbformat_minor": 5
}
