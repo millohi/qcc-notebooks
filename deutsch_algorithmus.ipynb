{
 "cells": [
  {
   "cell_type": "markdown",
   "source": [
    "### Imports"
   ],
   "metadata": {
    "collapsed": false
   },
   "id": "e6f1272ea19cb76d"
  },
  {
   "cell_type": "code",
   "execution_count": 3,
   "outputs": [],
   "source": [
    "from src.lib import state\n",
    "from src.lib import ops\n",
    "from src.lib import tensor"
   ],
   "metadata": {
    "collapsed": false,
    "ExecuteTime": {
     "end_time": "2023-11-21T08:15:43.803579300Z",
     "start_time": "2023-11-21T08:15:43.781610700Z"
    }
   },
   "id": "initial_id"
  },
  {
   "cell_type": "markdown",
   "source": [
    "### function to create U"
   ],
   "metadata": {
    "collapsed": false
   },
   "id": "ec6187cd674765"
  },
  {
   "cell_type": "code",
   "execution_count": 4,
   "outputs": [],
   "source": [
    "def create_u(user_input: str, display_operation: bool = True): \n",
    "    user_input_lower = user_input.lower()\n",
    "    if user_input_lower == 'set0': \n",
    "        tens = tensor.Tensor([\n",
    "                        [1,0,0,0], \n",
    "                        [0,1,0,0],\n",
    "                        [0,0,1,0], \n",
    "                        [0,0,0,1]])\n",
    "        \n",
    "    elif user_input_lower == 'id': \n",
    "        tens = tensor.Tensor([\n",
    "                        [1,0,0,0], \n",
    "                        [0,1,0,0],\n",
    "                        [0,0,0,1], \n",
    "                        [0,0,1,0]])\n",
    "    elif user_input_lower == 'not': \n",
    "        tens = tensor.Tensor([\n",
    "                        [0,1,0,0], \n",
    "                        [1,0,0,0],\n",
    "                        [0,0,1,0], \n",
    "                        [0,0,0,1]])\n",
    "    elif user_input_lower == 'set1': \n",
    "        tens = tensor.Tensor([\n",
    "                        [0,1,0,0], \n",
    "                        [1,0,0,0],\n",
    "                        [0,0,0,1], \n",
    "                        [0,0,1,0]])\n",
    "    else: \n",
    "        raise AssertionError('Wrong input')\n",
    "    operator = ops.Operator(tens)\n",
    "    \n",
    "    if display_operation: \n",
    "        print('Unitary function:')\n",
    "        print(operator)\n",
    "    return operator"
   ],
   "metadata": {
    "collapsed": false,
    "ExecuteTime": {
     "end_time": "2023-11-21T08:16:05.853683400Z",
     "start_time": "2023-11-21T08:16:05.844365500Z"
    }
   },
   "id": "6e929d1a3a90d697"
  },
  {
   "cell_type": "code",
   "execution_count": 5,
   "outputs": [],
   "source": [
    "def run_deutsch(unitary_function: ops.Operator, display_operation: bool = True): \n",
    "    # init | 0 1 > \n",
    "    xy = state.bitstring(0, 1)\n",
    "    if display_operation: \n",
    "        print('After init: ', xy)\n",
    "        \n",
    "    # first hadamard \n",
    "    op = ops.Hadamard(1) * ops.Hadamard(1) \n",
    "    xy = op(xy)\n",
    "    if display_operation: \n",
    "        print('After Hadamard 1: ', xy)\n",
    "    \n",
    "    # unitary function\n",
    "    xy = unitary_function(xy)\n",
    "    if display_operation: \n",
    "        print('After unitary_function: ', xy)\n",
    "    \n",
    "    # hadamard \n",
    "    op = ops.Hadamard(1) * ops.Identity(1)\n",
    "    xy = op(xy)\n",
    "    if display_operation: \n",
    "        print('After Hadamard 2: ', xy)\n",
    "    \n",
    "    try: \n",
    "        ops.Measure(xy, idx=0, tostate=0)\n",
    "        return 0\n",
    "    except AssertionError: \n",
    "        ops.Measure(xy, idx=0, tostate=1)\n",
    "        return 1"
   ],
   "metadata": {
    "collapsed": false,
    "ExecuteTime": {
     "end_time": "2023-11-21T08:16:06.509559800Z",
     "start_time": "2023-11-21T08:16:06.486226Z"
    }
   },
   "id": "41bb213c7494cfd1"
  },
  {
   "cell_type": "code",
   "execution_count": 6,
   "outputs": [
    {
     "name": "stdout",
     "output_type": "stream",
     "text": [
      "After init:  2-qubit state. Tensor:\n",
      "[0.+0.j 1.+0.j 0.+0.j 0.+0.j]\n",
      "After Hadamard 1:  2-qubit state. Tensor:\n",
      "[ 0.49999997+0.j -0.49999997+0.j  0.49999997+0.j -0.49999997+0.j]\n",
      "After unitary_function:  2-qubit state. Tensor:\n",
      "[ 0.49999997+0.j -0.49999997+0.j  0.49999997+0.j -0.49999997+0.j]\n",
      "After Hadamard 2:  2-qubit state. Tensor:\n",
      "[ 0.7071067+0.j -0.7071067+0.j  0.       +0.j  0.       +0.j]\n",
      "set0 is constant\n"
     ]
    }
   ],
   "source": [
    "user_in = input('Type function (set0, id, not, set1):')\n",
    "op = create_u(user_in, False)\n",
    "state_first_bit = run_deutsch(op)\n",
    "if state_first_bit == 0: \n",
    "    print(user_in, 'is constant')\n",
    "else: \n",
    "    print(user_in, 'is balanced')"
   ],
   "metadata": {
    "collapsed": false,
    "ExecuteTime": {
     "end_time": "2023-11-21T08:16:14.859831900Z",
     "start_time": "2023-11-21T08:16:11.219912700Z"
    }
   },
   "id": "b31c3b41acb9f8b6"
  },
  {
   "cell_type": "code",
   "execution_count": null,
   "outputs": [],
   "source": [],
   "metadata": {
    "collapsed": false
   },
   "id": "831d1411c401b812"
  }
 ],
 "metadata": {
  "kernelspec": {
   "display_name": "Python 3",
   "language": "python",
   "name": "python3"
  },
  "language_info": {
   "codemirror_mode": {
    "name": "ipython",
    "version": 2
   },
   "file_extension": ".py",
   "mimetype": "text/x-python",
   "name": "python",
   "nbconvert_exporter": "python",
   "pygments_lexer": "ipython2",
   "version": "2.7.6"
  }
 },
 "nbformat": 4,
 "nbformat_minor": 5
}
