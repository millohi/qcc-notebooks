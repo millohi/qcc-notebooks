{
 "cells": [
  {
   "cell_type": "code",
   "execution_count": 2,
   "id": "initial_id",
   "metadata": {
    "collapsed": true,
    "ExecuteTime": {
     "end_time": "2023-12-05T08:13:40.716821Z",
     "start_time": "2023-12-05T08:13:40.703161500Z"
    }
   },
   "outputs": [],
   "source": [
    "from src.lib import state\n",
    "from src.lib import ops\n",
    "from src.lib import bell\n",
    "from src.lib import helper\n",
    "\n",
    "import math"
   ]
  },
  {
   "cell_type": "code",
   "execution_count": 3,
   "outputs": [],
   "source": [
    "def create_xab(alpha: float, display_state = True): \n",
    "    ab = bell.bell_state(0, 0)\n",
    "    x = state.qubit(alpha, math.sqrt(1.0 - alpha * alpha))\n",
    "    xab = x * ab\n",
    "    if display_state: \n",
    "        print(xab)\n",
    "    return xab\n",
    "\n",
    "def alice_operations(xab: state.State) -> list: \n",
    "    '''Returns list tupels (state, probability)'''\n",
    "    xab = ops.Cnot(0, 1)(xab)\n",
    "    xab = (ops.Hadamard(1) * ops.Identity(2))(xab)\n",
    "\n",
    "    # a = 0\n",
    "    p_x0, x0b = ops.Measure(xab, idx=1, tostate=0, collapse=True)\n",
    "        # x = 0\n",
    "    temp = ops.Measure(x0b, idx=0, tostate=0, collapse=True)\n",
    "    p_00, r_00b = temp[0] * p_x0 , temp[1]\n",
    "        # x = 1\n",
    "    temp = ops.Measure(x0b, idx=0, tostate=1, collapse=True)\n",
    "    p_10, r_10b = temp[0] * p_x0, temp[1]\n",
    "    \n",
    "    # a = 1\n",
    "    p_x1, x1b = ops.Measure(xab, idx=1, tostate=1, collapse=True)\n",
    "        # x = 0\n",
    "    temp = ops.Measure(x1b, idx=0, tostate=0, collapse=True)\n",
    "    p_01, r_01b = temp[0] * p_x1, temp[1]\n",
    "        # x = 1\n",
    "    temp = ops.Measure(x1b, idx=0, tostate=1, collapse=True)\n",
    "    p_11, r_11b = temp[0] * p_x1, temp[1]\n",
    "    return [(r_00b, p_00), (r_01b, p_01), (r_10b, p_10), (r_11b, p_11)]\n",
    "\n",
    "def bob_operations(xab:state.State, m_x: int = 0, m_a: int = 0, display_operation = True) -> tuple: \n",
    "    '''Returns tuple of (alpha and beta) of qubit b'''\n",
    "    \n",
    "    if m_x == 0 and m_a == 0:\n",
    "        if display_operation: \n",
    "            print(\"Bob doesn't do an operation\")\n",
    "    if m_x == 0 and m_a == 1:\n",
    "        if display_operation: \n",
    "            print(\"Bob aplies X\")\n",
    "        xab = (ops.Identity(2) * ops.PauliX())(xab)\n",
    "    if m_x == 1 and m_a == 0:\n",
    "        if display_operation: \n",
    "            print(\"Bob aplies Z\")\n",
    "        xab = (ops.Identity(2) * ops.PauliZ())(xab)\n",
    "    if m_x == 1 and m_a == 1:\n",
    "        if display_operation: \n",
    "            print(\"Bob applies X and Z\")\n",
    "        xab = (ops.Identity(2) * ops.PauliX())((ops.Identity(2) * ops.PauliZ())(xab))\n",
    "        \n",
    "    p_b_0, _ = ops.Measure(xab, idx=2, tostate=0, collapse=False)\n",
    "    p_b_1, _ = ops.Measure(xab, idx=2, tostate=1, collapse=False)\n",
    "    return round(math.sqrt(p_b_0.real), 5), round(math.sqrt(p_b_1.real), 5)"
   ],
   "metadata": {
    "collapsed": false,
    "ExecuteTime": {
     "end_time": "2023-12-05T08:13:41.235706300Z",
     "start_time": "2023-12-05T08:13:41.198987900Z"
    }
   },
   "id": "73bd1ce6517be814"
  },
  {
   "cell_type": "code",
   "execution_count": 4,
   "outputs": [
    {
     "name": "stdout",
     "output_type": "stream",
     "text": [
      "Alpha of Qubit x was: 0.70711\n",
      "With a probability of 0.25 alice measures xa = [0, 0]. Bob creates Quibit with alpha 0.70711 and beta 0.70711.\n",
      "With a probability of 0.25 alice measures xa = [0, 1]. Bob creates Quibit with alpha 0.70711 and beta 0.70711.\n",
      "With a probability of 0.25 alice measures xa = [1, 0]. Bob creates Quibit with alpha 0.70711 and beta 0.70711.\n",
      "With a probability of 0.25 alice measures xa = [1, 1]. Bob creates Quibit with alpha 0.70711 and beta 0.70711.\n"
     ]
    }
   ],
   "source": [
    "x_aplha = float(input('Enter value for alpha of x [2 = sqrt(2)]'))\n",
    "if round(x_aplha) == 2: \n",
    "    x_aplha = math.sqrt(1/2)\n",
    "xab = create_xab(x_aplha, False)\n",
    "args = alice_operations(xab)\n",
    "print(f'Alpha of Qubit x was: {round(x_aplha, 5)}')\n",
    "for idx, val in enumerate(args): \n",
    "    curr_state = val[0]\n",
    "    prob = val[1]\n",
    "    bits = helper.val2bits(idx, 2)\n",
    "    alpha, beta = bob_operations(curr_state, bits[0], bits[1], False)\n",
    "    print(f'With a probability of {round(prob,2)} alice measures xa = {bits}. Bob creates Quibit with alpha {alpha} and beta {beta}.')"
   ],
   "metadata": {
    "collapsed": false,
    "ExecuteTime": {
     "end_time": "2023-12-05T08:14:39.596436700Z",
     "start_time": "2023-12-05T08:13:42.439178600Z"
    }
   },
   "id": "9b230dab91c71a2"
  },
  {
   "cell_type": "code",
   "execution_count": 69,
   "outputs": [],
   "source": [],
   "metadata": {
    "collapsed": false,
    "ExecuteTime": {
     "end_time": "2023-11-21T18:38:56.078597700Z",
     "start_time": "2023-11-21T18:38:56.052686700Z"
    }
   },
   "id": "4a1e60e8bab2515d"
  },
  {
   "cell_type": "code",
   "execution_count": null,
   "outputs": [],
   "source": [],
   "metadata": {
    "collapsed": false
   },
   "id": "15dee3dd35f2ee21"
  }
 ],
 "metadata": {
  "kernelspec": {
   "display_name": "Python 3",
   "language": "python",
   "name": "python3"
  },
  "language_info": {
   "codemirror_mode": {
    "name": "ipython",
    "version": 2
   },
   "file_extension": ".py",
   "mimetype": "text/x-python",
   "name": "python",
   "nbconvert_exporter": "python",
   "pygments_lexer": "ipython2",
   "version": "2.7.6"
  }
 },
 "nbformat": 4,
 "nbformat_minor": 5
}
