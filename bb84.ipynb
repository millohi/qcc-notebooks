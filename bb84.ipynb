{
 "cells": [
  {
   "cell_type": "code",
   "execution_count": 146,
   "id": "initial_id",
   "metadata": {
    "collapsed": true,
    "ExecuteTime": {
     "end_time": "2023-12-10T17:56:45.094625200Z",
     "start_time": "2023-12-10T17:56:45.085650700Z"
    }
   },
   "outputs": [],
   "source": [
    "from src.lib import state\n",
    "from src.lib import ops\n",
    "from random import random, sample"
   ]
  },
  {
   "cell_type": "code",
   "execution_count": 248,
   "outputs": [],
   "source": [
    "def alice_generate(num_bits=100, verbose=0):\n",
    "    list_a = []\n",
    "    list_x = []\n",
    "    list_basis = []\n",
    "    if verbose >= 1: print(f'Alice generating {num_bits} bits...')\n",
    "    for _ in range(num_bits):\n",
    "        a = state.bitstring(0)\n",
    "        a = ops.Hadamard(1)(a)\n",
    "        a_ = state.bitstring(0)\n",
    "        a_ = ops.Hadamard(1)(a_)\n",
    "\n",
    "        # measure and collapse a in correct state \n",
    "        p1, _ = ops.Measure(a, 0, 1, collapse=False)\n",
    "        if p1 > random():\n",
    "            _, a = ops.Measure(a, 0, 1, collapse=True)\n",
    "            result_a = 1\n",
    "        else:\n",
    "            _, a = ops.Measure(a, 0, 0, collapse=True)\n",
    "            result_a = 0\n",
    "\n",
    "        # measure a_ and do CHadamard\n",
    "        p_1, _ = ops.Measure(a_, 0, 1, collapse=False)\n",
    "        if p_1 > random():\n",
    "            x = ops.Hadamard(1)(a)\n",
    "            result_a_ = 1\n",
    "            if result_a == 0:\n",
    "                result_x = '+'\n",
    "            else:\n",
    "                result_x = '-'\n",
    "        else:\n",
    "            x = a\n",
    "            result_a_ = 0\n",
    "            result_x = result_a\n",
    "        if verbose >= 2:\n",
    "            print(f'Alice: a = {result_a} and a_ = {result_a_} --> x = {result_x}.')\n",
    "        list_a.append(a)\n",
    "        list_x.append(x)\n",
    "        list_basis.append(result_a_)\n",
    "    return list_a, list_x, list_basis"
   ],
   "metadata": {
    "collapsed": false,
    "ExecuteTime": {
     "end_time": "2023-12-10T19:06:34.778927100Z",
     "start_time": "2023-12-10T19:06:34.776823900Z"
    }
   },
   "id": "cf11300e5581be84"
  },
  {
   "cell_type": "code",
   "execution_count": 261,
   "outputs": [],
   "source": [
    "def eve(list_x_states, perc_spy = 0.5, verbose = 0):\n",
    "    new_l_x_states = []\n",
    "    knowledge_eve = []\n",
    "    num_spied = int(len(list_x_states) * perc_spy)\n",
    "    chosen_idx = sample(range(len(list_x_states)), num_spied)\n",
    "    if verbose >= 1: print(f'Eve is catches {len(list_x_states)} bits and measures {num_spied}...')\n",
    "    for i, s in enumerate(list_x_states): \n",
    "        if i in chosen_idx: \n",
    "            e_ = state.bitstring(0)\n",
    "            e_ = ops.Hadamard(1)(e_)\n",
    "    \n",
    "            # measure e_ and do CHadamard\n",
    "            p_1, _ = ops.Measure(e_, 0, 1, collapse=False)\n",
    "            if p_1 > random():\n",
    "                e = ops.Hadamard(1)(s)\n",
    "                result_e_ = 1\n",
    "            else:\n",
    "                e = s\n",
    "                result_e_ = 0\n",
    "    \n",
    "            # measure and collapse e\n",
    "            p1, _ = ops.Measure(e, 0, 1, collapse=False)\n",
    "            if p1 > random():\n",
    "                _, e = ops.Measure(e, 0, 1, collapse=True)\n",
    "                result_e = 1\n",
    "            else:\n",
    "                _, e = ops.Measure(e, 0, 0, collapse=True)\n",
    "                result_e = 0\n",
    "            \n",
    "            # Return into original s (CHadamard)\n",
    "            if result_e_:\n",
    "                s = ops.Hadamard(1)(e)\n",
    "            else:\n",
    "                s = e\n",
    "            if verbose >= 2:\n",
    "                print(f'Eve: e_ = {result_e_} --> e = {result_e}.')\n",
    "            knowledge_eve.append((result_e, result_e_))\n",
    "            new_l_x_states.append(s)\n",
    "            \n",
    "        else: \n",
    "            knowledge_eve.append(-1)\n",
    "            new_l_x_states.append(s)\n",
    "    return new_l_x_states, knowledge_eve"
   ],
   "metadata": {
    "collapsed": false,
    "ExecuteTime": {
     "end_time": "2023-12-10T19:10:54.566793800Z",
     "start_time": "2023-12-10T19:10:54.542671300Z"
    }
   },
   "id": "8f2cca077ddd4bf7"
  },
  {
   "cell_type": "code",
   "execution_count": 262,
   "outputs": [],
   "source": [
    "def bob(list_x, verbose=0):\n",
    "    list_basis = []\n",
    "    list_b = []\n",
    "    if verbose >= 1: print(f'Bob measuring {len(list_x)} bits from Alice...')\n",
    "    for x in list_x:\n",
    "        b_ = state.bitstring(0)\n",
    "        b_ = ops.Hadamard(1)(b_)\n",
    "\n",
    "        # measure b_ and do CHadamard\n",
    "        p_1, _ = ops.Measure(b_, 0, 1, collapse=False)\n",
    "        if p_1 > random():\n",
    "            b = ops.Hadamard(1)(x)\n",
    "            result_b_ = 1\n",
    "        else:\n",
    "            b = x\n",
    "            result_b_ = 0\n",
    "\n",
    "        # measure and collapse b\n",
    "        p1, _ = ops.Measure(b, 0, 1, collapse=False)\n",
    "        if p1 > random():\n",
    "            _, b = ops.Measure(b, 0, 1, collapse=True)\n",
    "            result_b = 1\n",
    "        else:\n",
    "            _, b = ops.Measure(b, 0, 0, collapse=True)\n",
    "            result_b = 0\n",
    "\n",
    "        if verbose >= 2:\n",
    "            print(f'Bob: b_ = {result_b_} --> b = {result_b}.')\n",
    "        list_b.append(b)\n",
    "        list_basis.append(result_b_)\n",
    "    return list_b, list_basis"
   ],
   "metadata": {
    "collapsed": false,
    "ExecuteTime": {
     "end_time": "2023-12-10T19:10:54.670234700Z",
     "start_time": "2023-12-10T19:10:54.658572500Z"
    }
   },
   "id": "a0608e0e00215cd6"
  },
  {
   "cell_type": "code",
   "execution_count": 263,
   "outputs": [],
   "source": [
    "def valid_invalid(list_a_basis, list_b_basis, verbose=0):\n",
    "    valid_state_idx = []\n",
    "    for idx, (b_a, b_b) in enumerate(zip(list_a_basis, list_b_basis)):\n",
    "        if b_a == b_b:\n",
    "            valid_state_idx.append(idx)\n",
    "        if verbose >= 2:\n",
    "            print(f'Bit with index {idx} is {\"\" if b_a == b_b else \"not \"}valid, because {b_a} vs {b_b}.')\n",
    "    if verbose >= 1: print(f'Number of valid bits between Alice and Bob: {len(valid_state_idx)}')\n",
    "    return valid_state_idx"
   ],
   "metadata": {
    "collapsed": false,
    "ExecuteTime": {
     "end_time": "2023-12-10T19:10:54.820386600Z",
     "start_time": "2023-12-10T19:10:54.785862200Z"
    }
   },
   "id": "7ecec70f227e2170"
  },
  {
   "cell_type": "code",
   "execution_count": 291,
   "outputs": [],
   "source": [
    "def eve_extract_information(knowledge_eve, list_valid, list_basis, verbose=0):\n",
    "    num_corr_bits = 0\n",
    "    for idx in list_valid:\n",
    "        # if eve spied that valid bit\n",
    "        if knowledge_eve[idx] != -1: \n",
    "            # if basis from A == B == E\n",
    "            if knowledge_eve[idx][1] == list_basis[idx]: \n",
    "                num_corr_bits += 1\n",
    "                if verbose >= 2: print(f'Bit with index {idx} was spied correctly with {knowledge_eve[idx][0]}')\n",
    "    if verbose >= 1: print(f'Eve spied {num_corr_bits} of {len([1 for x in list_valid if knowledge_eve[x] != -1])} valid spied bits of all spied {len(list_basis) - knowledge_eve.count(-1)} bits correctly.')\n",
    "    return num_corr_bits"
   ],
   "metadata": {
    "collapsed": false,
    "ExecuteTime": {
     "end_time": "2023-12-10T19:21:28.368873300Z",
     "start_time": "2023-12-10T19:21:28.350163Z"
    }
   },
   "id": "4d219489d98d40e0"
  },
  {
   "cell_type": "code",
   "execution_count": 292,
   "outputs": [],
   "source": [
    "def sacrifice(states_a, states_b, perc_sacrifice = 0.5, threshold = 0.75, verbose=False):\n",
    "    clear_channel = False\n",
    "    \n",
    "    num_valid = 0 \n",
    "    num = 0\n",
    "    pairs = list(zip(states_a, states_b))\n",
    "    \n",
    "    num_sec = int(perc_sacrifice * len(pairs))\n",
    "    if verbose >= 1: print(f'Alice and Bob sacrificing {num_sec} of {len(pairs)} bits...')\n",
    "    for s_a, s_b in sample(pairs, num_sec): \n",
    "        num += 1\n",
    "        \n",
    "        p_a, _ = ops.Measure(s_a, 0, 0, collapse=False)\n",
    "        p_b, _ = ops.Measure(s_b, 0, 0, collapse=False)\n",
    "        if round(p_a, 2) == round(p_b, 2):\n",
    "            num_valid += 1\n",
    "        if verbose >= 2: print(f'Compared {s_a} to {s_b} and its {\"valid\" if round(p_a, 2) == round(p_b, 2) else \"invalid\"}.')\n",
    "    if num_valid / num > threshold: \n",
    "        clear_channel = True \n",
    "    if verbose >= 1: print(f'{num_valid} from {num} are correct and so channel is {\"probably clear\" if clear_channel else \"maybe spied\"}!')\n",
    "    return clear_channel"
   ],
   "metadata": {
    "collapsed": false,
    "ExecuteTime": {
     "end_time": "2023-12-10T19:21:28.694342Z",
     "start_time": "2023-12-10T19:21:28.687528800Z"
    }
   },
   "id": "1e1c35167fbdbc82"
  },
  {
   "cell_type": "code",
   "execution_count": 293,
   "outputs": [
    {
     "name": "stdout",
     "output_type": "stream",
     "text": [
      "Alice generating 1000 bits...\n",
      "Eve is catches 1000 bits and measures 500...\n",
      "Bob measuring 1000 bits from Alice...\n",
      "Number of valid bits between Alice and Bob: 519\n",
      "Eve spied 129 of 269 valid spied bits of all spied 500 bits correctly.\n",
      "Alice and Bob sacrificing 259 of 519 bits...\n",
      "227 from 259 are correct and so channel is maybe spied!\n",
      "False\n"
     ]
    }
   ],
   "source": [
    "l_a_states, l_x_states, l_a_basis = alice_generate(1000, verbose=1)\n",
    "\n",
    "l_x_states, k_eve = eve(l_x_states, perc_spy=0.5, verbose=1)\n",
    "\n",
    "l_b_states, l_b_basis = bob(l_x_states, verbose=1)\n",
    "\n",
    "valid_idx = valid_invalid(l_a_basis, l_b_basis, verbose=1)\n",
    "\n",
    "n_spied_bits = eve_extract_information(k_eve, valid_idx, l_a_basis, verbose=1)\n",
    "\n",
    "l_a_states_valid = [l_a_states[i] for i in valid_idx]\n",
    "l_b_states_valid = [l_b_states[i] for i in valid_idx]\n",
    "c = sacrifice(l_a_states_valid, l_b_states_valid, perc_sacrifice=0.5, threshold=0.9, verbose=1)\n",
    "\n",
    "print(c)"
   ],
   "metadata": {
    "collapsed": false,
    "ExecuteTime": {
     "end_time": "2023-12-10T19:21:29.946553300Z",
     "start_time": "2023-12-10T19:21:29.362083800Z"
    }
   },
   "id": "812f7a3cc971f392"
  },
  {
   "cell_type": "code",
   "execution_count": 227,
   "outputs": [],
   "source": [],
   "metadata": {
    "collapsed": false,
    "ExecuteTime": {
     "end_time": "2023-12-10T18:57:07.248810100Z",
     "start_time": "2023-12-10T18:57:07.237027400Z"
    }
   },
   "id": "aded29ad814d5928"
  }
 ],
 "metadata": {
  "kernelspec": {
   "display_name": "Python 3",
   "language": "python",
   "name": "python3"
  },
  "language_info": {
   "codemirror_mode": {
    "name": "ipython",
    "version": 2
   },
   "file_extension": ".py",
   "mimetype": "text/x-python",
   "name": "python",
   "nbconvert_exporter": "python",
   "pygments_lexer": "ipython2",
   "version": "2.7.6"
  }
 },
 "nbformat": 4,
 "nbformat_minor": 5
}
